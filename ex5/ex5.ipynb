{
 "cells": [
  {
   "cell_type": "code",
   "execution_count": 1,
   "id": "f4ed9133",
   "metadata": {},
   "outputs": [],
   "source": [
    "import numpy as np\n",
    "import scipy\n",
    "from scipy.io import wavfile\n",
    "from numpy.fft import fft, ifft, fftshift\n",
    "import librosa \n",
    "import librosa.display\n",
    "from scipy.signal import hamming, hann, freqz\n",
    "from matplotlib import pyplot as plt\n",
    "from scipy.fftpack import dct\n",
    "\n",
    "from audiolazy import lazy_lpc as lpc\n"
   ]
  },
  {
   "cell_type": "code",
   "execution_count": 2,
   "id": "b57174c3",
   "metadata": {},
   "outputs": [],
   "source": [
    "# Problem 1\n",
    "audio, fs=librosa.load('audio.wav', sr=None)   "
   ]
  },
  {
   "cell_type": "code",
   "execution_count": 3,
   "id": "a6b25bd9",
   "metadata": {},
   "outputs": [
    {
     "data": {
      "text/plain": [
       "<matplotlib.colorbar.Colorbar at 0x7fd9e97987f0>"
      ]
     },
     "execution_count": 3,
     "metadata": {},
     "output_type": "execute_result"
    },
    {
     "data": {
      "image/png": "[encoded data removed]",
      "text/plain": [
       "<Figure size 432x288 with 2 Axes>"
      ]
     },
     "metadata": {
      "needs_background": "light"
     },
     "output_type": "display_data"
    }
   ],
   "source": [
    "# Creating mel filter bank\n",
    "\n",
    "N_fft = 512\n",
    "N_mel = 40\n",
    "mel_filter = librosa.filters.mel(fs,N_fft,N_mel)\n",
    "\n",
    "# Plotting mel filter bank\n",
    "\n",
    "fig, ax = plt.subplots()\n",
    "img = librosa.display.specshow(mel_filter,x_axis = 'linear', ax = ax)\n",
    "ax.set(ylabel = 'Mel filter', title = 'Mel Filter bank')\n",
    "fig.colorbar(img,ax = ax)\n",
    "\n",
    "\n",
    "# Report observation of mel filterbank\n",
    "# MelFilter represents an acoustic time-frequency representation of a sound\n",
    "# mels = 2595 * log10 (1 + hertz / 700),\n",
    "# When the frequency goes up the filter value gets lower"
   ]
  },
  {
   "cell_type": "code",
   "execution_count": 4,
   "id": "1b010c15",
   "metadata": {},
   "outputs": [
    {
     "name": "stdout",
     "output_type": "stream",
     "text": [
      "40000 40000\n"
     ]
    }
   ],
   "source": [
    "# Problem 2\n",
    "# 2.a\n",
    "\n",
    "alpha = 0.97\n",
    "pre_emphasis = np.append(audio[0], audio[1:]-alpha*audio[:-1])\n",
    "print(len(pre_emphasis),len(audio))"
   ]
  },
  {
   "cell_type": "code",
   "execution_count": 5,
   "id": "ae49eb9a",
   "metadata": {},
   "outputs": [
    {
     "ename": "ValueError",
     "evalue": "operands could not be broadcast together with shapes (512,) (40,257) ",
     "output_type": "error",
     "traceback": [
      "\u001b[0;31m---------------------------------------------------------------------------\u001b[0m",
      "\u001b[0;31mValueError\u001b[0m                                Traceback (most recent call last)",
      "\u001b[0;32m/tmp/ipykernel_6398/1764531701.py\u001b[0m in \u001b[0;36m<module>\u001b[0;34m\u001b[0m\n\u001b[1;32m     19\u001b[0m \u001b[0;34m\u001b[0m\u001b[0m\n\u001b[1;32m     20\u001b[0m         \u001b[0minInd\u001b[0m \u001b[0;34m=\u001b[0m \u001b[0minInd\u001b[0m \u001b[0;34m+\u001b[0m \u001b[0mint\u001b[0m\u001b[0;34m(\u001b[0m\u001b[0mwLen\u001b[0m\u001b[0;34m/\u001b[0m\u001b[0;36m2\u001b[0m\u001b[0;34m)\u001b[0m \u001b[0;31m# frame advance\u001b[0m\u001b[0;34m\u001b[0m\u001b[0;34m\u001b[0m\u001b[0m\n\u001b[0;32m---> 21\u001b[0;31m         \u001b[0mmel_spectrum\u001b[0m \u001b[0;34m=\u001b[0m \u001b[0mdft\u001b[0m\u001b[0;34m*\u001b[0m\u001b[0mmel_filter\u001b[0m\u001b[0;34m\u001b[0m\u001b[0;34m\u001b[0m\u001b[0m\n\u001b[0m\u001b[1;32m     22\u001b[0m         \u001b[0mmel_dB\u001b[0m \u001b[0;34m=\u001b[0m \u001b[0;36m20\u001b[0m \u001b[0;34m*\u001b[0m\u001b[0mnp\u001b[0m\u001b[0;34m.\u001b[0m\u001b[0mlog10\u001b[0m\u001b[0;34m(\u001b[0m\u001b[0mnp\u001b[0m\u001b[0;34m.\u001b[0m\u001b[0mabs\u001b[0m\u001b[0;34m(\u001b[0m\u001b[0mmel_spectrum\u001b[0m\u001b[0;34m)\u001b[0m\u001b[0;34m)\u001b[0m\u001b[0;34m\u001b[0m\u001b[0;34m\u001b[0m\u001b[0m\n\u001b[1;32m     23\u001b[0m \u001b[0;34m\u001b[0m\u001b[0m\n",
      "\u001b[0;31mValueError\u001b[0m: operands could not be broadcast together with shapes (512,) (40,257) "
     ]
    }
   ],
   "source": [
    "# 2.b\n",
    "inInd = 0\n",
    "wLen = int(0.02*fs) # 20 ms window\n",
    "\n",
    "win = hamming(wLen) # hamming window for example\n",
    "nfft = 1024\n",
    "numframes = np.ceil( (len(pre_emphasis)-wLen)/(wLen/2)) # number of frames\n",
    "\n",
    "while inInd< len(pre_emphasis)-wLen:\n",
    "\n",
    "        # audio frame\n",
    "        frame = pre_emphasis[inInd:inInd+wLen]* win\n",
    "\n",
    "        # Compute DFT spectrum\n",
    "        dft = fft(frame,nfft)\n",
    "        # taking the first half\n",
    "        dft = dft[0:nfft//2]\n",
    "        dft = 20 *np.log10(np.abs(dft)**2) # in dB scale\n",
    "\n",
    "        inInd = inInd + int(wLen/2) # frame advance\n",
    "        mel_spectrum = dft*mel_filter\n",
    "        mel_dB = 20 *np.log10(np.abs(mel_spectrum))\n",
    "        \n",
    "        plt.plot(mel_dB)\n",
    "\n",
    "        plt.plot(np.linspace(0, fs/2, nfft//2, endpoint = False), dft) \n",
    "        # plot vocal tract freq response or LP spectral envelope\n",
    "        mfcc = dct(mel_dB, type=2, axis=1, norm='ortho')[:, 1 : (num_ceps + 1)] \n",
    "\n",
    "        \n",
    "#https://haythamfayek.com/2016/04/21/speech-processing-for-machine-learning.html"
   ]
  },
  {
   "cell_type": "code",
   "execution_count": 6,
   "id": "567a7b43",
   "metadata": {},
   "outputs": [
    {
     "data": {
      "text/plain": [
       "[Text(0.5, 1.0, 'MFCC')]"
      ]
     },
     "execution_count": 6,
     "metadata": {},
     "output_type": "execute_result"
    },
    {
     "data": {
      "image/png": "[encoded data removed]",
      "text/plain": [
       "<Figure size 432x288 with 2 Axes>"
      ]
     },
     "metadata": {
      "needs_background": "light"
     },
     "output_type": "display_data"
    }
   ],
   "source": [
    "# 2.d\n",
    "lib_mfcc = librosa.feature.mfcc(y=pre_emphasis, sr=fs, n_mels = 128)\n",
    "fig, ax = plt.subplots()\n",
    "\n",
    "img = librosa.display.specshow(lib_mfcc, x_axis='time', ax=ax)\n",
    "\n",
    "fig.colorbar(img, ax=ax)\n",
    "\n",
    "ax.set(title='MFCC')"
   ]
  }
 ],
 "metadata": {
  "kernelspec": {
   "display_name": "Python 3 (ipykernel)",
   "language": "python",
   "name": "python3"
  },
  "language_info": {
   "codemirror_mode": {
    "name": "ipython",
    "version": 3
   },
   "file_extension": ".py",
   "mimetype": "text/x-python",
   "name": "python",
   "nbconvert_exporter": "python",
   "pygments_lexer": "ipython3",
   "version": "3.9.7"
  }
 },
 "nbformat": 4,
 "nbformat_minor": 5
}
